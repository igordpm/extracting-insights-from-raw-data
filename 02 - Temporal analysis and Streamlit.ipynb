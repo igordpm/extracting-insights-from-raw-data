{
 "cells": [
  {
   "cell_type": "markdown",
   "metadata": {},
   "source": [
    "Right, so let's start by importing some relevant libraries and the datasets from the previous section."
   ]
  },
  {
   "cell_type": "code",
   "execution_count": 1,
   "metadata": {},
   "outputs": [],
   "source": [
    "import pandas as pd\n",
    "import plotly.express as px\n",
    "from plotly.subplots import make_subplots"
   ]
  },
  {
   "cell_type": "markdown",
   "metadata": {},
   "source": [
    "***Quick reminder:***\n",
    "- Group 1: all entries after the data cleaning from section 01;\n",
    "- Group 2: all extreme outliers removed;\n",
    "- Group 3: all mild outliers removed (and, consequently, all extreme outliers as well)."
   ]
  },
  {
   "cell_type": "code",
   "execution_count": 2,
   "metadata": {},
   "outputs": [],
   "source": [
    "# Group 1:\n",
    "items1 = pd.read_csv('data/Created in part 01/group1_items.csv')\n",
    "invoices1 = pd.read_csv('data/Created in part 01/group1_invoices.csv')\n",
    "\n",
    "# Group 2:\n",
    "items2 = pd.read_csv('data/Created in part 01/group2_items.csv')\n",
    "invoices2 = pd.read_csv('data/Created in part 01/group2_invoices.csv')\n",
    "\n",
    "# Group 3:\n",
    "items3 = pd.read_csv('data/Created in part 01/group3_items.csv')\n",
    "invoices3 = pd.read_csv('data/Created in part 01/group3_invoices.csv')"
   ]
  },
  {
   "cell_type": "markdown",
   "metadata": {},
   "source": [
    "# For this part,\n",
    "several graphs will be created. Data scientists are good at managing data and creating all sorts of weird stuff, but all these outputs might look confusing for outsiders. Therefore, [Streamlit](https://streamlit.io/) might come in handy, since it is a powerful tool for dashboard creation.\n",
    "\n",
    "Considering we have 3 groups of different data, it becomes too much time-consuming creating separate functions for each group. We can make things a lot easier by creating general functions that can take any input and return the appropriate output. This will also simplify our Streamlit code, making it faster to develop and easier to cache, if needed be.\n",
    "\n",
    "Let's get things going:"
   ]
  },
  {
   "cell_type": "markdown",
   "metadata": {},
   "source": []
  }
 ],
 "metadata": {
  "interpreter": {
   "hash": "722dd2f5591ec263a4c69bfbafe90b54787f0a98170040ba291ae7e5f0a33246"
  },
  "kernelspec": {
   "display_name": "Python 3.8.8 64-bit ('base': conda)",
   "name": "python3"
  },
  "language_info": {
   "codemirror_mode": {
    "name": "ipython",
    "version": 3
   },
   "file_extension": ".py",
   "mimetype": "text/x-python",
   "name": "python",
   "nbconvert_exporter": "python",
   "pygments_lexer": "ipython3",
   "version": "3.8.8"
  },
  "orig_nbformat": 4
 },
 "nbformat": 4,
 "nbformat_minor": 2
}
